{
 "cells": [
  {
   "cell_type": "markdown",
   "metadata": {
    "application/vnd.databricks.v1+cell": {
     "cellMetadata": {},
     "inputWidgets": {},
     "nuid": "7584294e-a037-4388-bf05-e17794b7fccf",
     "showTitle": false,
     "tableResultSettingsMap": {},
     "title": ""
    }
   },
   "source": [
    "Open your terminal or command prompt and run:\n",
    "\n",
    "`pip install databricks-cli`\n",
    "\n",
    "Set up the CLI:\n",
    "\n",
    "`databricks configure --token`\n",
    "\n",
    "Create a secret scope called jdbc:\n",
    "\n",
    "`databricks secrets create-scope --scope jdbc`\n",
    "\n",
    "Add the secrets username and password. Run the following commands and enter the secret values in the opened editor:\n",
    "\n",
    "`databricks secrets put --scope jdbc --key username`\n",
    "\n",
    "`databricks secrets put --scope jdbc --key password`\n",
    "\n",
    "Check the secrets list:\n",
    "\n",
    "`databricks secrets list --scope jdbc`"
   ]
  },
  {
   "cell_type": "code",
   "execution_count": 0,
   "metadata": {
    "application/vnd.databricks.v1+cell": {
     "cellMetadata": {
      "byteLimit": 2048000,
      "rowLimit": 10000
     },
     "inputWidgets": {},
     "nuid": "1275b765-4f8b-4690-82b9-8a5e830f9efb",
     "showTitle": false,
     "tableResultSettingsMap": {},
     "title": ""
    }
   },
   "outputs": [],
   "source": [
    "username = dbutils.secrets.get(scope = \"jdbc\", key = \"username\")\n",
    "password = dbutils.secrets.get(scope = \"jdbc\", key = \"password\")\n",
    "\n"
   ]
  },
  {
   "cell_type": "code",
   "execution_count": 0,
   "metadata": {
    "application/vnd.databricks.v1+cell": {
     "cellMetadata": {
      "byteLimit": 2048000,
      "rowLimit": 10000
     },
     "inputWidgets": {},
     "nuid": "90814f33-ec0f-4a94-917d-23ec9888b171",
     "showTitle": false,
     "tableResultSettingsMap": {},
     "title": ""
    }
   },
   "outputs": [],
   "source": [
    "def authentificate_kaggle(KAGGLE_USERNAME, KAGGLE_KEY):\n",
    "    import os\n",
    "    os.environ['KAGGLE_USERNAME'] = KAGGLE_USERNAME\n",
    "    os.environ['KAGGLE_KEY'] = KAGGLE_KEY\n",
    "\n",
    "    from kaggle.api.kaggle_api_extended import KaggleApi\n",
    "\n",
    "    api = KaggleApi()\n",
    "    api.authenticate()\n",
    "\n",
    "    print('Authentification is successful')\n",
    "\n",
    "    return api"
   ]
  },
  {
   "cell_type": "code",
   "execution_count": 0,
   "metadata": {
    "application/vnd.databricks.v1+cell": {
     "cellMetadata": {
      "byteLimit": 2048000,
      "rowLimit": 10000
     },
     "inputWidgets": {},
     "nuid": "5f425e90-ab06-4ca2-8ab1-f47a64666b73",
     "showTitle": false,
     "tableResultSettingsMap": {},
     "title": ""
    }
   },
   "outputs": [],
   "source": [
    "try:\n",
    "    api = authentificate_kaggle(username, password)\n",
    "#in case of error, install the module\n",
    "except Exception as e:\n",
    "    print(e)\n",
    "    print(\"Intalling the module: pip install kaggle\")\n",
    "\n",
    "    import sys\n",
    "    import subprocess\n",
    "\n",
    "    subprocess.check_call([sys.executable, \"-m\", \"pip\", \"install\", \"kaggle\"])\n",
    "\n",
    "    api = authentificate_kaggle(username, password)"
   ]
  },
  {
   "cell_type": "code",
   "execution_count": 0,
   "metadata": {
    "application/vnd.databricks.v1+cell": {
     "cellMetadata": {
      "byteLimit": 2048000,
      "rowLimit": 10000
     },
     "inputWidgets": {},
     "nuid": "b31dff38-0aee-4746-a220-6206e4ae39ff",
     "showTitle": false,
     "tableResultSettingsMap": {},
     "title": ""
    }
   },
   "outputs": [],
   "source": [
    "#define file name and path\n",
    "file_name = 'arashnic/book-recommendation-dataset'\n",
    "file_path = '/Volumes/dev_bronze/books/books_raw_data_1'"
   ]
  },
  {
   "cell_type": "code",
   "execution_count": 0,
   "metadata": {
    "application/vnd.databricks.v1+cell": {
     "cellMetadata": {
      "byteLimit": 2048000,
      "rowLimit": 10000
     },
     "inputWidgets": {},
     "nuid": "ef657d35-78b1-4814-9d1d-11f1f72a906d",
     "showTitle": false,
     "tableResultSettingsMap": {},
     "title": ""
    }
   },
   "outputs": [],
   "source": [
    "api.dataset_download_files(dataset = file_name, path= file_path, unzip=True)"
   ]
  }
 ],
 "metadata": {
  "application/vnd.databricks.v1+notebook": {
   "computePreferences": {
    "hardware": {
     "accelerator": null,
     "gpuPoolId": null,
     "memory": null
    }
   },
   "dashboards": [],
   "environmentMetadata": {
    "base_environment": "",
    "environment_version": "2"
   },
   "inputWidgetPreferences": null,
   "language": "python",
   "notebookMetadata": {
    "pythonIndentUnit": 4
   },
   "notebookName": "databricks secrets",
   "widgets": {}
  },
  "language_info": {
   "name": "python"
  }
 },
 "nbformat": 4,
 "nbformat_minor": 0
}
