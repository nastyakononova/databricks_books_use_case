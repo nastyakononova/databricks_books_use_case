{
 "cells": [
  {
   "cell_type": "markdown",
   "metadata": {
    "application/vnd.databricks.v1+cell": {
     "cellMetadata": {},
     "inputWidgets": {},
     "nuid": "dd8c3689-49a3-4c18-9bf6-7829730110bf",
     "showTitle": false,
     "tableResultSettingsMap": {},
     "title": ""
    }
   },
   "source": [
    "#Define parameters"
   ]
  },
  {
   "cell_type": "code",
   "execution_count": 0,
   "metadata": {
    "application/vnd.databricks.v1+cell": {
     "cellMetadata": {
      "byteLimit": 2048000,
      "rowLimit": 10000
     },
     "inputWidgets": {},
     "nuid": "82e88743-d2fe-4e18-a388-3aef276861c4",
     "showTitle": false,
     "tableResultSettingsMap": {},
     "title": ""
    }
   },
   "outputs": [],
   "source": [
    "catalog_name = \"dev_gold\"\n",
    "schema_name = \"books\""
   ]
  },
  {
   "cell_type": "markdown",
   "metadata": {
    "application/vnd.databricks.v1+cell": {
     "cellMetadata": {},
     "inputWidgets": {},
     "nuid": "e9f6def4-4480-4014-9932-844e9e0dac1e",
     "showTitle": false,
     "tableResultSettingsMap": {},
     "title": ""
    }
   },
   "source": [
    "#Import of libraries"
   ]
  },
  {
   "cell_type": "code",
   "execution_count": 0,
   "metadata": {
    "application/vnd.databricks.v1+cell": {
     "cellMetadata": {
      "byteLimit": 2048000,
      "rowLimit": 10000
     },
     "inputWidgets": {},
     "nuid": "c5245c4d-811e-47cc-b27f-eb948b8f6e1f",
     "showTitle": false,
     "tableResultSettingsMap": {},
     "title": ""
    }
   },
   "outputs": [],
   "source": [
    "from pyspark.sql.types import StructType, StructField, StringType, IntegerType, DoubleType, DecimalType"
   ]
  },
  {
   "cell_type": "markdown",
   "metadata": {
    "application/vnd.databricks.v1+cell": {
     "cellMetadata": {},
     "inputWidgets": {},
     "nuid": "f91d5ec9-1fdc-4ecb-93db-87dbbb34bf03",
     "showTitle": false,
     "tableResultSettingsMap": {},
     "title": ""
    }
   },
   "source": [
    "#Average books ratings"
   ]
  },
  {
   "cell_type": "code",
   "execution_count": 0,
   "metadata": {
    "application/vnd.databricks.v1+cell": {
     "cellMetadata": {
      "byteLimit": 2048000,
      "rowLimit": 10000
     },
     "inputWidgets": {},
     "nuid": "bb51476d-716a-4bf0-93ee-3e6a1a243dd6",
     "showTitle": false,
     "tableResultSettingsMap": {
      "0": {
       "dataGridStateBlob": "{\"version\":1,\"tableState\":{\"columnPinning\":{\"left\":[\"#row_number#\"],\"right\":[]},\"columnSizing\":{},\"columnVisibility\":{}},\"settings\":{\"columns\":{\"Image_URL_M\":{\"format\":{\"preset\":\"string-preset-url\"}},\"average_rating\":{\"format\":{\"preset\":\"string-preset-url\"}}}},\"syncTimestamp\":1752653140284}",
       "filterBlob": null,
       "queryPlanFiltersBlob": null,
       "tableResultIndex": 0
      }
     },
     "title": ""
    }
   },
   "outputs": [],
   "source": [
    "table_name = \"average_books_rating\"\n",
    "\n",
    "df = spark.sql(f\"\"\"\n",
    "with global_rating as (\n",
    "    select \n",
    "        round(avg(Book_Rating), 2)  as global_average_rating\n",
    "    from dev_silver.books.ratings_silver    \n",
    "),\n",
    "average_rating as (\n",
    "    select \n",
    "            ISBN,\n",
    "            round(avg(Book_Rating), 2)  as average_rating,\n",
    "            count(Book_Rating) as number_of_ratings\n",
    "        from dev_silver.books.ratings_silver  \n",
    "        group by \n",
    "            ISBN\n",
    ")\n",
    "select\n",
    "    books.ISBN,\n",
    "    books.Book_Title,\n",
    "    books.Book_Author,\n",
    "    books.Year_Of_Publication,\n",
    "    books.Publisher,\n",
    "    books.Image_URL_M,\n",
    "    average_rating.average_rating,\n",
    "    average_rating.number_of_ratings,\n",
    "    --formula for calculation of weighted_rating where 50 is minimum ratings threshold\n",
    "    round((number_of_ratings / (number_of_ratings + 50)) * average_rating +\n",
    "    (50 / (number_of_ratings + 50)) * global_average_rating, 2\n",
    "  ) AS weighted_rating\n",
    "FROM dev_silver.books.books_silver books \n",
    "left JOIN average_rating\n",
    "    on books.ISBN = average_rating.ISBN\n",
    "left join global_rating\n",
    "\"\"\")\n",
    "\n",
    "display(df)\n",
    "\n",
    "(df.write\n",
    "    .format(\"delta\")\n",
    "    .mode(\"overwrite\")\n",
    "    .option(\"inferSchema\", \"true\")\n",
    "    .saveAsTable(f\"{catalog_name}.{schema_name}.{table_name}\")\n",
    ")\n",
    "print(f\"Table {table_name} updated\")\n"
   ]
  },
  {
   "cell_type": "markdown",
   "metadata": {
    "application/vnd.databricks.v1+cell": {
     "cellMetadata": {},
     "inputWidgets": {},
     "nuid": "bbab435b-2780-491b-81b2-7bd9063d023d",
     "showTitle": false,
     "tableResultSettingsMap": {},
     "title": ""
    }
   },
   "source": [
    "#Top books"
   ]
  },
  {
   "cell_type": "code",
   "execution_count": 0,
   "metadata": {
    "application/vnd.databricks.v1+cell": {
     "cellMetadata": {
      "byteLimit": 2048000,
      "rowLimit": 10000
     },
     "inputWidgets": {},
     "nuid": "dc763389-dc35-4620-82c5-ab239e425bb6",
     "showTitle": false,
     "tableResultSettingsMap": {},
     "title": ""
    }
   },
   "outputs": [],
   "source": [
    "view_name = \"top_books\"\n",
    "\n",
    "df = spark.sql(f\"\"\"\n",
    "    CREATE OR REPLACE VIEW {catalog_name}.{schema_name}.{view_name} AS\n",
    "    select\n",
    "        Book_Title,\n",
    "        Book_Author,\n",
    "        weighted_rating,\n",
    "        number_of_ratings \n",
    "    from dev_gold.books.average_books_rating\n",
    "    order by weighted_rating desc\n",
    "    limit 10\n",
    "\"\"\")\n"
   ]
  },
  {
   "cell_type": "markdown",
   "metadata": {
    "application/vnd.databricks.v1+cell": {
     "cellMetadata": {},
     "inputWidgets": {},
     "nuid": "2daceed2-509e-4ac1-b926-7a24ccb02fab",
     "showTitle": false,
     "tableResultSettingsMap": {},
     "title": ""
    }
   },
   "source": [
    "# Top authors"
   ]
  },
  {
   "cell_type": "code",
   "execution_count": 0,
   "metadata": {
    "application/vnd.databricks.v1+cell": {
     "cellMetadata": {
      "byteLimit": 2048000,
      "rowLimit": 10000
     },
     "inputWidgets": {},
     "nuid": "2d63081e-c9ef-466b-ab28-3e4a5c3c0cc2",
     "showTitle": false,
     "tableResultSettingsMap": {},
     "title": ""
    }
   },
   "outputs": [],
   "source": [
    "view_name = \"top_authors\"\n",
    "\n",
    "df = spark.sql(f\"\"\"\n",
    "    CREATE OR REPLACE VIEW {catalog_name}.{schema_name}.{view_name} AS\n",
    "    select\n",
    "        Book_Author,\n",
    "        max(weighted_rating) as average_weighted_rating\n",
    "    from dev_gold.books.average_books_rating\n",
    "    group by Book_Author\n",
    "    order by average_weighted_rating desc\n",
    "    limit 10\n",
    "\"\"\")\n"
   ]
  }
 ],
 "metadata": {
  "application/vnd.databricks.v1+notebook": {
   "computePreferences": null,
   "dashboards": [],
   "environmentMetadata": {
    "base_environment": "",
    "environment_version": "2"
   },
   "inputWidgetPreferences": null,
   "language": "python",
   "notebookMetadata": {
    "pythonIndentUnit": 4
   },
   "notebookName": "aggregation_gold",
   "widgets": {}
  },
  "language_info": {
   "name": "python"
  }
 },
 "nbformat": 4,
 "nbformat_minor": 0
}
